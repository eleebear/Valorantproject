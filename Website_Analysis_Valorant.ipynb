{
  "cells": [
    {
      "cell_type": "markdown",
      "id": "c7566c1d",
      "metadata": {
        "id": "c7566c1d"
      },
      "source": [
        "**Website Analysis: Valorant**"
      ]
    },
    {
      "cell_type": "code",
      "execution_count": null,
      "id": "c92d9497",
      "metadata": {
        "id": "c92d9497"
      },
      "outputs": [],
      "source": [
        "import requests\n",
        "from bs4 import BeautifulSoup\n",
        "from urllib.parse import urljoin"
      ]
    },
    {
      "cell_type": "code",
      "execution_count": null,
      "id": "f4e93e7d",
      "metadata": {
        "id": "f4e93e7d"
      },
      "outputs": [],
      "source": [
        "def get_internal_links(url):\n",
        "    try:\n",
        "        # Send a GET request to the URL\n",
        "        response = requests.get(url)\n",
        "\n",
        "        # Check if the request was successful\n",
        "        if response.status_code != 200:\n",
        "            return f\"Failed to retrieve content from {url}\"\n",
        "\n",
        "        # Parse the content of the request with BeautifulSoup\n",
        "        soup = BeautifulSoup(response.text, 'html.parser')\n",
        "\n",
        "        # Find all the anchor tags in the HTML\n",
        "        anchors = soup.find_all('a')\n",
        "\n",
        "        internal_links = set()\n",
        "\n",
        "        # Filter and add the internal links to the set\n",
        "        for anchor in anchors:\n",
        "            link = anchor.get('href')\n",
        "            # Check if the link is internal\n",
        "            if link and (link.startswith('/') or link.startswith(url)):\n",
        "                full_link = urljoin(url, link)\n",
        "                internal_links.add(full_link)\n",
        "\n",
        "        return internal_links\n",
        "    except Exception as e:\n",
        "        return str(e)"
      ]
    },
    {
      "cell_type": "code",
      "execution_count": null,
      "id": "c2374167",
      "metadata": {
        "colab": {
          "base_uri": "https://localhost:8080/"
        },
        "id": "c2374167",
        "outputId": "1c8e76ee-ed20-4502-e0b9-1aef1e2eead8"
      },
      "outputs": [
        {
          "output_type": "stream",
          "name": "stdout",
          "text": [
            "https://playvalorant.com/en-us/news/\n",
            "https://playvalorant.com/en-us/news/announcements/beginners-guide/\n",
            "https://playvalorant.com/en-us/news/dev/anti-cheat-update-winter-2023/\n",
            "https://playvalorant.com/en-us/news/game-updates/valorant-patch-notes-7-12/\n",
            "https://playvalorant.com/en-us/agents/\n",
            "https://playvalorant.com/en-us/maps/\n"
          ]
        }
      ],
      "source": [
        "url = \"https://playvalorant.com/en-us/\"\n",
        "internal_links = get_internal_links(url)\n",
        "\n",
        "for link in internal_links:\n",
        "    print(link)"
      ]
    },
    {
      "cell_type": "code",
      "execution_count": null,
      "id": "e5a7dece",
      "metadata": {
        "colab": {
          "base_uri": "https://localhost:8080/"
        },
        "id": "e5a7dece",
        "outputId": "0b697986-15f8-4cca-c90d-ede61a71a6a3"
      },
      "outputs": [
        {
          "output_type": "stream",
          "name": "stdout",
          "text": [
            "6\n"
          ]
        }
      ],
      "source": [
        "#your code here:\n",
        "print(len(internal_links))"
      ]
    },
    {
      "cell_type": "code",
      "execution_count": null,
      "id": "c6cdd1c6",
      "metadata": {
        "colab": {
          "base_uri": "https://localhost:8080/",
          "height": 35
        },
        "id": "c6cdd1c6",
        "outputId": "7d04969e-ae42-4064-9f18-8d4d79ee94ce"
      },
      "outputs": [
        {
          "output_type": "execute_result",
          "data": {
            "text/plain": [
              "'https://playvalorant.com/en-us/news/announcements/beginners-guide/'"
            ],
            "application/vnd.google.colaboratory.intrinsic+json": {
              "type": "string"
            }
          },
          "metadata": {},
          "execution_count": 5
        }
      ],
      "source": [
        "#Your code here\n",
        "\n",
        "def get_highest_internal_link(link_list):\n",
        "  max_count = 0\n",
        "  max_url = ''\n",
        "\n",
        "  for link in link_list:\n",
        "    internal_link_set = get_internal_links(link)\n",
        "    if len(internal_link_set) > max_count:\n",
        "      max_count = len(internal_link_set)\n",
        "      max_url = link\n",
        "\n",
        "  return max_url\n",
        "\n",
        "get_highest_internal_link(internal_links)"
      ]
    },
    {
      "cell_type": "code",
      "execution_count": null,
      "id": "5feb4692",
      "metadata": {
        "colab": {
          "base_uri": "https://localhost:8080/"
        },
        "id": "5feb4692",
        "outputId": "68e2d385-33ea-4f47-90a9-21ec9e9db6ba"
      },
      "outputs": [
        {
          "output_type": "stream",
          "name": "stdout",
          "text": [
            "VALORANT: Riot Games’ competitive 5v5 character-based tactical shooter\n",
            "A 5v5 character-based tactical shooter\n",
            "PLAY FREE\n",
            "We are\n",
            "VALORANT\n",
            "THE LATEST\n",
            "GO TO NEWS PAGE.\n",
            "12/11/23\n",
            "Dev\n",
            "ANTI-CHEAT UPDATE // WINTER 2023\n",
            "12/11/23\n",
            "Esports\n",
            "TOP 10 Plays | VALORANT Game Changers Champions 2023\n",
            "12/05/23\n",
            "Game Updates\n",
            "VALORANT Patch Notes 7.12\n",
            "EVOLUTION\n",
            "EPISODE_07 // ACT III / YR 3\n",
            "Watch Now\n",
            "WE ARE VALORANT\n",
            "DEFY THE LIMITS\n",
            "Blend your style and experience on a global, competitive stage. You have 13 rounds to attack and defend your side using sharp gunplay and tactical abilities. And, with one life per-round, you'll need to think faster than your opponent if you want to survive. Take on foes across Competitive and Unranked modes as well as Deathmatch and Spike Rush.\n",
            "LEARN THE GAME\n",
            "Gameplay\n",
            "YOUR AGENTS\n",
            "CREATIVITY IS YOUR GREATEST WEAPON.\n",
            "More than guns and bullets, you’ll choose an Agent armed with adaptive, swift, and lethal abilities that create opportunities to let your gunplay shine. No two Agents play alike, just as no two highlight reels will look the same.\n",
            "VIEW ALL AGENTS\n",
            "Place\n",
            "YOUR MAPS\n",
            "FIGHT AROUND THE WORLD\n",
            "Each map is a playground to showcase your creative thinking. Purpose-built for team strategies, spectacular plays, and clutch moments. Make the play others will imitate for years to come..\n",
            "VIEW ALL MAPS\n"
          ]
        }
      ],
      "source": [
        "def return_clean_content_of_url(url):\n",
        "    try:\n",
        "        # Send a GET request to the URL\n",
        "        response = requests.get(url)\n",
        "\n",
        "        # Check if the request was successful\n",
        "        if response.status_code != 200:\n",
        "            return f\"Failed to retrieve content from {url}\"\n",
        "\n",
        "        # Parse the content of the response with BeautifulSoup\n",
        "        soup = BeautifulSoup(response.text, 'html.parser')\n",
        "\n",
        "        # Extract and print the text content from the parsed HTML\n",
        "        text_content = soup.get_text(separator='\\n', strip=True)\n",
        "        return text_content\n",
        "\n",
        "    except Exception as e:\n",
        "        print(f\"An error occurred: {e}\")\n",
        "\n",
        "print(return_clean_content_of_url(url))"
      ]
    },
    {
      "cell_type": "code",
      "execution_count": null,
      "id": "e7840a47",
      "metadata": {
        "colab": {
          "base_uri": "https://localhost:8080/"
        },
        "id": "e7840a47",
        "outputId": "82eb8839-9ee5-4e15-ff7e-1d0cf54cce19"
      },
      "outputs": [
        {
          "output_type": "stream",
          "name": "stdout",
          "text": [
            "216\n"
          ]
        }
      ],
      "source": [
        "#your code here:\n",
        "print(len(return_clean_content_of_url(url).replace('\\n', ' ').split(' ')))"
      ]
    },
    {
      "cell_type": "code",
      "execution_count": null,
      "id": "a89a18e4",
      "metadata": {
        "colab": {
          "base_uri": "https://localhost:8080/"
        },
        "id": "a89a18e4",
        "outputId": "21df087b-652b-42a2-8175-6ab9b0eb0290"
      },
      "outputs": [
        {
          "output_type": "stream",
          "name": "stdout",
          "text": [
            "before {'valorant:': 1, 'riot': 1, 'games’': 1, 'competitive': 3, '5v5': 2, 'character-based': 2, 'tactical': 3, 'shooter': 2, 'a': 3, 'play': 3, 'free': 1, 'we': 2, 'are': 2, 'valorant': 4, 'the': 6, 'latest': 1, 'go': 1, 'to': 7, 'news': 1, 'page.': 1, '12/11/23': 2, 'dev': 1, 'anti-cheat': 1, 'update': 1, '//': 2, 'winter': 1, '2023': 2, 'esports': 1, 'top': 1, '10': 1, 'plays': 1, '|': 1, 'game': 3, 'changers': 1, 'champions': 1, '12/05/23': 1, 'updates': 1, 'patch': 1, 'notes': 1, '7.12': 1, 'evolution': 1, 'episode_07': 1, 'act': 1, 'iii': 1, '/': 1, 'yr': 1, '3': 1, 'watch': 1, 'now': 1, 'defy': 1, 'limits': 1, 'blend': 1, 'your': 8, 'style': 1, 'and': 8, 'experience': 1, 'on': 2, 'global,': 1, 'stage.': 1, 'you': 2, 'have': 1, '13': 1, 'rounds': 1, 'attack': 1, 'defend': 1, 'side': 1, 'using': 1, 'sharp': 1, 'gunplay': 2, 'abilities.': 1, 'and,': 1, 'with': 2, 'one': 1, 'life': 1, 'per-round,': 1, \"you'll\": 1, 'need': 1, 'think': 1, 'faster': 1, 'than': 2, 'opponent': 1, 'if': 1, 'want': 1, 'survive.': 1, 'take': 1, 'foes': 1, 'across': 1, 'unranked': 1, 'modes': 1, 'as': 3, 'well': 1, 'deathmatch': 1, 'spike': 1, 'rush.': 1, 'learn': 1, 'gameplay': 1, 'agents': 3, 'creativity': 1, 'is': 2, 'greatest': 1, 'weapon.': 1, 'more': 1, 'guns': 1, 'bullets,': 1, 'you’ll': 1, 'choose': 1, 'an': 1, 'agent': 1, 'armed': 1, 'adaptive,': 1, 'swift,': 1, 'lethal': 1, 'abilities': 1, 'that': 1, 'create': 1, 'opportunities': 1, 'let': 1, 'shine.': 1, 'no': 2, 'two': 2, 'alike,': 1, 'just': 1, 'highlight': 1, 'reels': 1, 'will': 2, 'look': 1, 'same.': 1, 'view': 2, 'all': 2, 'place': 1, 'maps': 2, 'fight': 1, 'around': 1, 'world': 1, 'each': 1, 'map': 1, 'playground': 1, 'showcase': 1, 'creative': 1, 'thinking.': 1, 'purpose-built': 1, 'for': 2, 'team': 1, 'strategies,': 1, 'spectacular': 1, 'plays,': 1, 'clutch': 1, 'moments.': 1, 'make': 1, 'others': 1, 'imitate': 1, 'years': 1, 'come..': 1}\n",
            "after ['your', 'and', 'to', 'the', 'valorant', 'competitive', 'tactical', 'a', 'play', 'game', 'as', 'agents', '5v5', 'character-based', 'shooter', 'we', 'are', '12/11/23', '//', '2023', 'on', 'you', 'gunplay', 'with', 'than', 'is', 'no', 'two', 'will', 'view', 'all', 'maps', 'for', 'valorant:', 'riot', 'games’', 'free', 'latest', 'go', 'news', 'page.', 'dev', 'anti-cheat', 'update', 'winter', 'esports', 'top', '10', 'plays', '|', 'changers', 'champions', '12/05/23', 'updates', 'patch', 'notes', '7.12', 'evolution', 'episode_07', 'act', 'iii', '/', 'yr', '3', 'watch', 'now', 'defy', 'limits', 'blend', 'style', 'experience', 'global,', 'stage.', 'have', '13', 'rounds', 'attack', 'defend', 'side', 'using', 'sharp', 'abilities.', 'and,', 'one', 'life', 'per-round,', \"you'll\", 'need', 'think', 'faster', 'opponent', 'if', 'want', 'survive.', 'take', 'foes', 'across', 'unranked', 'modes', 'well', 'deathmatch', 'spike', 'rush.', 'learn', 'gameplay', 'creativity', 'greatest', 'weapon.', 'more', 'guns', 'bullets,', 'you’ll', 'choose', 'an', 'agent', 'armed', 'adaptive,', 'swift,', 'lethal', 'abilities', 'that', 'create', 'opportunities', 'let', 'shine.', 'alike,', 'just', 'highlight', 'reels', 'look', 'same.', 'place', 'fight', 'around', 'world', 'each', 'map', 'playground', 'showcase', 'creative', 'thinking.', 'purpose-built', 'team', 'strategies,', 'spectacular', 'plays,', 'clutch', 'moments.', 'make', 'others', 'imitate', 'years', 'come..']\n",
            "Unique word count: 153\n",
            "1 your 8\n",
            "2 and 8\n",
            "3 to 7\n",
            "4 the 6\n",
            "5 valorant 4\n",
            "6 competitive 3\n",
            "7 tactical 3\n",
            "8 a 3\n",
            "9 play 3\n",
            "10 game 3\n",
            "11 as 3\n",
            "12 agents 3\n",
            "13 5v5 2\n",
            "14 character-based 2\n",
            "15 shooter 2\n",
            "16 we 2\n",
            "17 are 2\n",
            "18 12/11/23 2\n",
            "19 // 2\n"
          ]
        },
        {
          "output_type": "execute_result",
          "data": {
            "text/plain": [
              "{'valorant:': 1,\n",
              " 'riot': 1,\n",
              " 'games’': 1,\n",
              " 'competitive': 3,\n",
              " '5v5': 2,\n",
              " 'character-based': 2,\n",
              " 'tactical': 3,\n",
              " 'shooter': 2,\n",
              " 'a': 3,\n",
              " 'play': 3,\n",
              " 'free': 1,\n",
              " 'we': 2,\n",
              " 'are': 2,\n",
              " 'valorant': 4,\n",
              " 'the': 6,\n",
              " 'latest': 1,\n",
              " 'go': 1,\n",
              " 'to': 7,\n",
              " 'news': 1,\n",
              " 'page.': 1,\n",
              " '12/11/23': 2,\n",
              " 'dev': 1,\n",
              " 'anti-cheat': 1,\n",
              " 'update': 1,\n",
              " '//': 2,\n",
              " 'winter': 1,\n",
              " '2023': 2,\n",
              " 'esports': 1,\n",
              " 'top': 1,\n",
              " '10': 1,\n",
              " 'plays': 1,\n",
              " '|': 1,\n",
              " 'game': 3,\n",
              " 'changers': 1,\n",
              " 'champions': 1,\n",
              " '12/05/23': 1,\n",
              " 'updates': 1,\n",
              " 'patch': 1,\n",
              " 'notes': 1,\n",
              " '7.12': 1,\n",
              " 'evolution': 1,\n",
              " 'episode_07': 1,\n",
              " 'act': 1,\n",
              " 'iii': 1,\n",
              " '/': 1,\n",
              " 'yr': 1,\n",
              " '3': 1,\n",
              " 'watch': 1,\n",
              " 'now': 1,\n",
              " 'defy': 1,\n",
              " 'limits': 1,\n",
              " 'blend': 1,\n",
              " 'your': 8,\n",
              " 'style': 1,\n",
              " 'and': 8,\n",
              " 'experience': 1,\n",
              " 'on': 2,\n",
              " 'global,': 1,\n",
              " 'stage.': 1,\n",
              " 'you': 2,\n",
              " 'have': 1,\n",
              " '13': 1,\n",
              " 'rounds': 1,\n",
              " 'attack': 1,\n",
              " 'defend': 1,\n",
              " 'side': 1,\n",
              " 'using': 1,\n",
              " 'sharp': 1,\n",
              " 'gunplay': 2,\n",
              " 'abilities.': 1,\n",
              " 'and,': 1,\n",
              " 'with': 2,\n",
              " 'one': 1,\n",
              " 'life': 1,\n",
              " 'per-round,': 1,\n",
              " \"you'll\": 1,\n",
              " 'need': 1,\n",
              " 'think': 1,\n",
              " 'faster': 1,\n",
              " 'than': 2,\n",
              " 'opponent': 1,\n",
              " 'if': 1,\n",
              " 'want': 1,\n",
              " 'survive.': 1,\n",
              " 'take': 1,\n",
              " 'foes': 1,\n",
              " 'across': 1,\n",
              " 'unranked': 1,\n",
              " 'modes': 1,\n",
              " 'as': 3,\n",
              " 'well': 1,\n",
              " 'deathmatch': 1,\n",
              " 'spike': 1,\n",
              " 'rush.': 1,\n",
              " 'learn': 1,\n",
              " 'gameplay': 1,\n",
              " 'agents': 3,\n",
              " 'creativity': 1,\n",
              " 'is': 2,\n",
              " 'greatest': 1,\n",
              " 'weapon.': 1,\n",
              " 'more': 1,\n",
              " 'guns': 1,\n",
              " 'bullets,': 1,\n",
              " 'you’ll': 1,\n",
              " 'choose': 1,\n",
              " 'an': 1,\n",
              " 'agent': 1,\n",
              " 'armed': 1,\n",
              " 'adaptive,': 1,\n",
              " 'swift,': 1,\n",
              " 'lethal': 1,\n",
              " 'abilities': 1,\n",
              " 'that': 1,\n",
              " 'create': 1,\n",
              " 'opportunities': 1,\n",
              " 'let': 1,\n",
              " 'shine.': 1,\n",
              " 'no': 2,\n",
              " 'two': 2,\n",
              " 'alike,': 1,\n",
              " 'just': 1,\n",
              " 'highlight': 1,\n",
              " 'reels': 1,\n",
              " 'will': 2,\n",
              " 'look': 1,\n",
              " 'same.': 1,\n",
              " 'view': 2,\n",
              " 'all': 2,\n",
              " 'place': 1,\n",
              " 'maps': 2,\n",
              " 'fight': 1,\n",
              " 'around': 1,\n",
              " 'world': 1,\n",
              " 'each': 1,\n",
              " 'map': 1,\n",
              " 'playground': 1,\n",
              " 'showcase': 1,\n",
              " 'creative': 1,\n",
              " 'thinking.': 1,\n",
              " 'purpose-built': 1,\n",
              " 'for': 2,\n",
              " 'team': 1,\n",
              " 'strategies,': 1,\n",
              " 'spectacular': 1,\n",
              " 'plays,': 1,\n",
              " 'clutch': 1,\n",
              " 'moments.': 1,\n",
              " 'make': 1,\n",
              " 'others': 1,\n",
              " 'imitate': 1,\n",
              " 'years': 1,\n",
              " 'come..': 1}"
            ]
          },
          "metadata": {},
          "execution_count": 11
        }
      ],
      "source": [
        "#your code here\n",
        "def num_of_unique_words(text):\n",
        "    word_dict = {}\n",
        "\n",
        "    text_arr = text.replace('\\n', ' ').split(' ')\n",
        "\n",
        "    for word in text_arr:\n",
        "      word = word.lower()\n",
        "      if word not in word_dict:\n",
        "        word_dict[word] = 0\n",
        "\n",
        "      word_dict[word] += 1\n",
        "\n",
        "    sorted_dict = sorted(word_dict, key=word_dict.get, reverse=True)\n",
        "\n",
        "    print('Unique word count: ' + str(len(word_dict)))\n",
        "\n",
        "    i = 0\n",
        "    for w in sorted_dict:\n",
        "      if i == 19:\n",
        "        break\n",
        "      print(i + 1, w, word_dict[w])\n",
        "\n",
        "      i+=1\n",
        "\n",
        "    return word_dict\n",
        "\n",
        "\n",
        "num_of_unique_words(return_clean_content_of_url(url))\n",
        "\n"
      ]
    },
    {
      "cell_type": "markdown",
      "id": "3d7c2799",
      "metadata": {
        "id": "3d7c2799"
      },
      "source": [
        "5. Write a script to output two specific pages from the main URL: one with the highest word count and another with the lowest word count."
      ]
    },
    {
      "cell_type": "code",
      "execution_count": null,
      "id": "be1d3987",
      "metadata": {
        "colab": {
          "base_uri": "https://localhost:8080/"
        },
        "id": "be1d3987",
        "outputId": "f5abdf2f-553b-4e9f-e16a-9388ac837c38"
      },
      "outputs": [
        {
          "output_type": "stream",
          "name": "stdout",
          "text": [
            "Lowest word count is 67 from https://playvalorant.com/en-us/news/.\n",
            "Highest word count is 561 from https://playvalorant.com/en-us/news/game-updates/valorant-patch-notes-7-12/.\n"
          ]
        },
        {
          "output_type": "execute_result",
          "data": {
            "text/plain": [
              "('https://playvalorant.com/en-us/news/',\n",
              " 67,\n",
              " 'https://playvalorant.com/en-us/news/game-updates/valorant-patch-notes-7-12/',\n",
              " 561)"
            ]
          },
          "metadata": {},
          "execution_count": 31
        }
      ],
      "source": [
        "#Your code here\n",
        "def min_max_word_count(url):\n",
        "  internal_links = get_internal_links(url)\n",
        "\n",
        "  min_count = 1000000000000000000\n",
        "  max_count = 0\n",
        "\n",
        "  min_url = ''\n",
        "  max_url = ''\n",
        "\n",
        "  for link in internal_links:\n",
        "    text = return_clean_content_of_url(link)\n",
        "    text = text.replace('\\n', ' ').split(' ')\n",
        "    word_count = len(text)\n",
        "\n",
        "    if word_count > max_count:\n",
        "      max_count = word_count\n",
        "      max_url = link\n",
        "\n",
        "    if word_count < min_count:\n",
        "      min_count = word_count\n",
        "      min_url = link\n",
        "  print(f\"Lowest word count is {min_count} from {min_url}.\")\n",
        "  print(f\"Highest word count is {max_count} from {max_url}.\")\n",
        "  return (min_url, min_count, max_url, max_count)\n",
        "\n",
        "min_max_word_count(url)"
      ]
    }
  ],
  "metadata": {
    "kernelspec": {
      "display_name": "Python 3 (ipykernel)",
      "language": "python",
      "name": "python3"
    },
    "language_info": {
      "codemirror_mode": {
        "name": "ipython",
        "version": 3
      },
      "file_extension": ".py",
      "mimetype": "text/x-python",
      "name": "python",
      "nbconvert_exporter": "python",
      "pygments_lexer": "ipython3",
      "version": "3.11.4"
    },
    "colab": {
      "provenance": []
    }
  },
  "nbformat": 4,
  "nbformat_minor": 5
}